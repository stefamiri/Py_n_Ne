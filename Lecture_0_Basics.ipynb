{
 "cells": [
  {
   "cell_type": "markdown",
   "metadata": {},
   "source": [
    "# Lecture 0. Basics"
   ]
  },
  {
   "cell_type": "markdown",
   "metadata": {},
   "source": [
    "## Before Python, what is a Jupyter notebook? "
   ]
  },
  {
   "cell_type": "markdown",
   "metadata": {},
   "source": [
    "[Go to the Documentation](https://jupyter-notebook.readthedocs.io/en/stable/notebook.html)\n",
    "![](l0_jupy_doc.png)\n",
    "<br/>A part from a lot of blah, blah, blah, the important thing is that it is a\n",
    ">_A web application: a browser-based tool for interactive authoring of documents which combine explanatory text, mathematics, computations and their rich media output._\n",
    "that is still a lot of blah blah blah.  \n",
    "\n",
    "Roughly speaking it is a document that embeds [markdown](https://daringfireball.net/projects/markdown/syntax) cells (like this one), where you can put some texts, image, formulas and comments to your code (see the proper description [here](https://jupyter-notebook.readthedocs.io/en/stable/notebook.html#markdown-cells)) and [code cells](https://jupyter-notebook.readthedocs.io/en/stable/notebook.html#code-cells), i.e. the one in which python run."
   ]
  },
  {
   "cell_type": "markdown",
   "metadata": {},
   "source": [
    "As a general rule, cell with a green edges are in _insert_ mode, while blue are in _navigation_ (no-insert) mode. By pressing **Esc** you pass from insert to navigation, by pressing **Enter** you pass to insert mode."
   ]
  },
  {
   "cell_type": "markdown",
   "metadata": {},
   "source": [
    "In navigation mode, you can decide the type of the cell you selected: y for coding, m to markdown. "
   ]
  },
  {
   "cell_type": "markdown",
   "metadata": {},
   "source": [
    "In order to evaluate the code cell: Shift+Enter. It is not (so) important the order of the code cell, but the order in which you evaluate them."
   ]
  },
  {
   "cell_type": "markdown",
   "metadata": {},
   "source": [
    "## Python basics\n",
    "Refers to everything you can find online about python basics. Personally I find this **Automate the boring stuff with Python**, by *Al Sweigart* interesting, but it is up to you. All the code of the present lecture is _inspired_ from the first 5 chapters there."
   ]
  },
  {
   "cell_type": "markdown",
   "metadata": {},
   "source": [
    "> Like a wizard-in-training, you might think these concepts seem arcane and tedious, but with some knowledge and practice, you’ll be able to command your computer like a magic wand to perform incredible feats.\n",
    "\n",
    "--_Al Sweigart_"
   ]
  },
  {
   "cell_type": "markdown",
   "metadata": {},
   "source": [
    "#### The cell"
   ]
  },
  {
   "cell_type": "code",
   "execution_count": 4,
   "metadata": {
    "ExecuteTime": {
     "end_time": "2018-12-06T11:34:48.324760Z",
     "start_time": "2018-12-06T11:34:48.308851Z"
    }
   },
   "outputs": [
    {
     "data": {
      "text/plain": [
       "8"
      ]
     },
     "execution_count": 4,
     "metadata": {},
     "output_type": "execute_result"
    }
   ],
   "source": [
    "2**3 \n",
    "#ho fatto una potenza\n"
   ]
  },
  {
   "cell_type": "markdown",
   "metadata": {},
   "source": [
    "Comment (#) to the interactive cell"
   ]
  },
  {
   "cell_type": "code",
   "execution_count": 2,
   "metadata": {
    "ExecuteTime": {
     "end_time": "2018-12-06T11:35:08.813322Z",
     "start_time": "2018-12-06T11:35:08.806083Z"
    }
   },
   "outputs": [
    {
     "data": {
      "text/plain": [
       "2"
      ]
     },
     "execution_count": 2,
     "metadata": {},
     "output_type": "execute_result"
    }
   ],
   "source": [
    "2#+2"
   ]
  },
  {
   "cell_type": "markdown",
   "metadata": {},
   "source": [
    "Comments are going to be your best friends."
   ]
  },
  {
   "cell_type": "code",
   "execution_count": 25,
   "metadata": {
    "ExecuteTime": {
     "end_time": "2018-12-06T13:28:02.967096Z",
     "start_time": "2018-12-06T13:28:02.960173Z"
    }
   },
   "outputs": [
    {
     "data": {
      "text/plain": [
       "42"
      ]
     },
     "execution_count": 25,
     "metadata": {},
     "output_type": "execute_result"
    }
   ],
   "source": [
    "2+2\n",
    "42"
   ]
  },
  {
   "cell_type": "markdown",
   "metadata": {},
   "source": [
    "Only the output of the last command is shown. Otherwise, use print "
   ]
  },
  {
   "cell_type": "code",
   "execution_count": 28,
   "metadata": {
    "ExecuteTime": {
     "end_time": "2018-12-06T13:28:51.636257Z",
     "start_time": "2018-12-06T13:28:51.626744Z"
    }
   },
   "outputs": [
    {
     "name": "stdout",
     "output_type": "stream",
     "text": [
      "4\n"
     ]
    },
    {
     "data": {
      "text/plain": [
       "42"
      ]
     },
     "execution_count": 28,
     "metadata": {},
     "output_type": "execute_result"
    }
   ],
   "source": [
    "print 2+2\n",
    "42"
   ]
  },
  {
   "cell_type": "markdown",
   "metadata": {},
   "source": [
    "## Data types, basic operations and variables"
   ]
  },
  {
   "cell_type": "markdown",
   "metadata": {},
   "source": [
    "#### Data type: integers, floating points and strings"
   ]
  },
  {
   "cell_type": "markdown",
   "metadata": {},
   "source": [
    "Integers are integers (it makes sense...), floating points (floats for friends) are number with decimal points (a dot). The function type returns the data type:"
   ]
  },
  {
   "cell_type": "code",
   "execution_count": 2,
   "metadata": {
    "ExecuteTime": {
     "end_time": "2018-12-06T12:57:12.125609Z",
     "start_time": "2018-12-06T12:57:12.118597Z"
    }
   },
   "outputs": [
    {
     "data": {
      "text/plain": [
       "int"
      ]
     },
     "execution_count": 2,
     "metadata": {},
     "output_type": "execute_result"
    }
   ],
   "source": [
    "type(42)"
   ]
  },
  {
   "cell_type": "code",
   "execution_count": 3,
   "metadata": {
    "ExecuteTime": {
     "end_time": "2018-12-06T12:57:20.182141Z",
     "start_time": "2018-12-06T12:57:20.174464Z"
    }
   },
   "outputs": [
    {
     "data": {
      "text/plain": [
       "float"
      ]
     },
     "execution_count": 3,
     "metadata": {},
     "output_type": "execute_result"
    }
   ],
   "source": [
    "type(42.)"
   ]
  },
  {
   "cell_type": "markdown",
   "metadata": {},
   "source": [
    "Strings are text value and are surrounded by ''."
   ]
  },
  {
   "cell_type": "code",
   "execution_count": 4,
   "metadata": {
    "ExecuteTime": {
     "end_time": "2018-12-06T12:58:37.699587Z",
     "start_time": "2018-12-06T12:58:37.692647Z"
    }
   },
   "outputs": [
    {
     "data": {
      "text/plain": [
       "str"
      ]
     },
     "execution_count": 4,
     "metadata": {},
     "output_type": "execute_result"
    }
   ],
   "source": [
    "type('42')"
   ]
  },
  {
   "cell_type": "markdown",
   "metadata": {},
   "source": [
    "#### Basic operations"
   ]
  },
  {
   "cell_type": "markdown",
   "metadata": {
    "heading_collapsed": true
   },
   "source": [
    "##### Integers and floats  \n",
    "We saw plus that among integers plus works (+), but of course there is minus (-) and times (\\*). \n",
    "Before going to something trickier as the division (o.O), there are other operations as modulus (%) and exponent (\\*\\*)"
   ]
  },
  {
   "cell_type": "code",
   "execution_count": 7,
   "metadata": {
    "ExecuteTime": {
     "end_time": "2018-12-06T13:01:15.479842Z",
     "start_time": "2018-12-06T13:01:15.472732Z"
    },
    "hidden": true
   },
   "outputs": [
    {
     "data": {
      "text/plain": [
       "16"
      ]
     },
     "execution_count": 7,
     "metadata": {},
     "output_type": "execute_result"
    }
   ],
   "source": [
    "4**2"
   ]
  },
  {
   "cell_type": "code",
   "execution_count": 8,
   "metadata": {
    "ExecuteTime": {
     "end_time": "2018-12-06T13:01:24.725030Z",
     "start_time": "2018-12-06T13:01:24.718218Z"
    },
    "hidden": true
   },
   "outputs": [
    {
     "data": {
      "text/plain": [
       "2"
      ]
     },
     "execution_count": 8,
     "metadata": {},
     "output_type": "execute_result"
    }
   ],
   "source": [
    "42 % 5"
   ]
  },
  {
   "cell_type": "markdown",
   "metadata": {
    "hidden": true
   },
   "source": [
    "Note that above mentioned operations between integers return integers, but operations between an integers and floats returns float:"
   ]
  },
  {
   "cell_type": "code",
   "execution_count": 9,
   "metadata": {
    "ExecuteTime": {
     "end_time": "2018-12-06T13:01:35.571960Z",
     "start_time": "2018-12-06T13:01:35.564939Z"
    },
    "hidden": true
   },
   "outputs": [
    {
     "data": {
      "text/plain": [
       "16.0"
      ]
     },
     "execution_count": 9,
     "metadata": {},
     "output_type": "execute_result"
    }
   ],
   "source": [
    "4**2."
   ]
  },
  {
   "cell_type": "markdown",
   "metadata": {
    "hidden": true
   },
   "source": [
    "The function int() and float() convert respectively to ..."
   ]
  },
  {
   "cell_type": "code",
   "execution_count": 405,
   "metadata": {
    "ExecuteTime": {
     "end_time": "2018-12-06T16:11:06.390859Z",
     "start_time": "2018-12-06T16:11:06.384457Z"
    },
    "hidden": true
   },
   "outputs": [
    {
     "data": {
      "text/plain": [
       "16"
      ]
     },
     "execution_count": 405,
     "metadata": {},
     "output_type": "execute_result"
    }
   ],
   "source": [
    "int(4**2.)"
   ]
  },
  {
   "cell_type": "code",
   "execution_count": 407,
   "metadata": {
    "ExecuteTime": {
     "end_time": "2018-12-06T16:11:19.397108Z",
     "start_time": "2018-12-06T16:11:19.390129Z"
    },
    "hidden": true
   },
   "outputs": [
    {
     "data": {
      "text/plain": [
       "2.0"
      ]
     },
     "execution_count": 407,
     "metadata": {},
     "output_type": "execute_result"
    }
   ],
   "source": [
    "float(42% 5)"
   ]
  },
  {
   "cell_type": "markdown",
   "metadata": {
    "heading_collapsed": true
   },
   "source": [
    "##### Why Python2 is deprecated\n",
    "The reason is not this one, but the division behaviour is indeed weird:"
   ]
  },
  {
   "cell_type": "code",
   "execution_count": 10,
   "metadata": {
    "ExecuteTime": {
     "end_time": "2018-12-06T13:03:15.487426Z",
     "start_time": "2018-12-06T13:03:15.479534Z"
    },
    "hidden": true
   },
   "outputs": [
    {
     "data": {
      "text/plain": [
       "8"
      ]
     },
     "execution_count": 10,
     "metadata": {},
     "output_type": "execute_result"
    }
   ],
   "source": [
    "42/5 #questi sono integers quindi quando fa la divisione i decimali li sfancula (arrotonda per eccesso o difetto?)"
   ]
  },
  {
   "cell_type": "markdown",
   "metadata": {
    "hidden": true
   },
   "source": [
    "???"
   ]
  },
  {
   "cell_type": "markdown",
   "metadata": {
    "hidden": true
   },
   "source": [
    ">Note that above mentioned operations between integers return integers, but operations between an integers and floats returns float."
   ]
  },
  {
   "cell_type": "code",
   "execution_count": 11,
   "metadata": {
    "ExecuteTime": {
     "end_time": "2018-12-06T13:03:54.592184Z",
     "start_time": "2018-12-06T13:03:54.584619Z"
    },
    "hidden": true
   },
   "outputs": [
    {
     "data": {
      "text/plain": [
       "8.4"
      ]
     },
     "execution_count": 11,
     "metadata": {},
     "output_type": "execute_result"
    }
   ],
   "source": [
    "42./5 #qui invece che sono float il risultato della divisione ha i decimali"
   ]
  },
  {
   "cell_type": "markdown",
   "metadata": {
    "hidden": true
   },
   "source": [
    "Now it makes sense! **Pay attention!** This does not happen in Python 3! BTW, python 2 is not as deprecated as it seems and it is the stablest version ever."
   ]
  },
  {
   "cell_type": "markdown",
   "metadata": {},
   "source": [
    "##### Strings"
   ]
  },
  {
   "cell_type": "markdown",
   "metadata": {},
   "source": [
    "String concatenation:"
   ]
  },
  {
   "cell_type": "code",
   "execution_count": 13,
   "metadata": {
    "ExecuteTime": {
     "end_time": "2018-12-06T13:07:37.284015Z",
     "start_time": "2018-12-06T13:07:37.276878Z"
    }
   },
   "outputs": [
    {
     "data": {
      "text/plain": [
       "'How many roads must a man walk down before you call him a man? 42!'"
      ]
     },
     "execution_count": 13,
     "metadata": {},
     "output_type": "execute_result"
    }
   ],
   "source": [
    "'How many roads must a man walk down before you call him a man?'+' 42!'"
   ]
  },
  {
   "cell_type": "markdown",
   "metadata": {},
   "source": [
    "Strange things:"
   ]
  },
  {
   "cell_type": "code",
   "execution_count": 11,
   "metadata": {},
   "outputs": [],
   "source": [
    "cacca='cacca\\ncacca\\tcacca'"
   ]
  },
  {
   "cell_type": "code",
   "execution_count": 12,
   "metadata": {},
   "outputs": [
    {
     "name": "stdout",
     "output_type": "stream",
     "text": [
      "cacca\n",
      "cacca\tcacca\n"
     ]
    }
   ],
   "source": [
    "print cacca"
   ]
  },
  {
   "cell_type": "markdown",
   "metadata": {},
   "source": [
    "\\t=tab  \n",
    "\\n=paragraph"
   ]
  },
  {
   "cell_type": "code",
   "execution_count": 13,
   "metadata": {},
   "outputs": [
    {
     "data": {
      "text/plain": [
       "['cacca', 'cacca', 'cacca']"
      ]
     },
     "execution_count": 13,
     "metadata": {},
     "output_type": "execute_result"
    }
   ],
   "source": [
    "'cacca,cacca,cacca'.split(',')"
   ]
  },
  {
   "cell_type": "markdown",
   "metadata": {},
   "source": [
    "As in the previous case, str converts to ..."
   ]
  },
  {
   "cell_type": "code",
   "execution_count": 408,
   "metadata": {
    "ExecuteTime": {
     "end_time": "2018-12-06T16:12:44.151817Z",
     "start_time": "2018-12-06T16:12:44.144766Z"
    }
   },
   "outputs": [
    {
     "data": {
      "text/plain": [
       "'42'"
      ]
     },
     "execution_count": 408,
     "metadata": {},
     "output_type": "execute_result"
    }
   ],
   "source": [
    "str(42) #create a string out of a number (convert a number in a string)"
   ]
  },
  {
   "cell_type": "markdown",
   "metadata": {},
   "source": [
    "#### Variables"
   ]
  },
  {
   "cell_type": "markdown",
   "metadata": {},
   "source": [
    "You can define a variable:"
   ]
  },
  {
   "cell_type": "code",
   "execution_count": 14,
   "metadata": {
    "ExecuteTime": {
     "end_time": "2018-12-06T13:09:36.570565Z",
     "start_time": "2018-12-06T13:09:36.565760Z"
    }
   },
   "outputs": [],
   "source": [
    "cacca=42 #sto definendo il valore della variabile cacca"
   ]
  },
  {
   "cell_type": "markdown",
   "metadata": {},
   "source": [
    "(\"cacca\" can be written by using just two fingers of your left hand, thus is a better name for an auxiliary variable than \"aux\")"
   ]
  },
  {
   "cell_type": "code",
   "execution_count": 15,
   "metadata": {
    "ExecuteTime": {
     "end_time": "2018-12-06T13:10:43.428972Z",
     "start_time": "2018-12-06T13:10:43.421439Z"
    }
   },
   "outputs": [
    {
     "data": {
      "text/plain": [
       "int"
      ]
     },
     "execution_count": 15,
     "metadata": {},
     "output_type": "execute_result"
    }
   ],
   "source": [
    "type(cacca)"
   ]
  },
  {
   "cell_type": "markdown",
   "metadata": {},
   "source": [
    "Single rules for defining a variable:\n",
    "- it must be a single word;\n",
    "- it can have numbers, letters and underscore;\n",
    "- it cannot start with a number."
   ]
  },
  {
   "cell_type": "markdown",
   "metadata": {},
   "source": [
    "### Booleans and logical operations"
   ]
  },
  {
   "cell_type": "markdown",
   "metadata": {
    "heading_collapsed": true
   },
   "source": [
    "#### Comparison"
   ]
  },
  {
   "cell_type": "code",
   "execution_count": 16,
   "metadata": {
    "ExecuteTime": {
     "end_time": "2018-12-06T13:20:13.781359Z",
     "start_time": "2018-12-06T13:20:13.774514Z"
    },
    "hidden": true
   },
   "outputs": [
    {
     "data": {
      "text/plain": [
       "True"
      ]
     },
     "execution_count": 16,
     "metadata": {},
     "output_type": "execute_result"
    }
   ],
   "source": [
    "42.==42 #python able to understand that even if one is a float and the other is a int still they are equivalent"
   ]
  },
  {
   "cell_type": "markdown",
   "metadata": {
    "hidden": true
   },
   "source": [
    "Disregarding the (numerical) data type, Python recognizes that the two numbers are equal. That is not true mixing numbers and strings:"
   ]
  },
  {
   "cell_type": "code",
   "execution_count": 5,
   "metadata": {},
   "outputs": [
    {
     "data": {
      "text/plain": [
       "True"
      ]
     },
     "execution_count": 5,
     "metadata": {},
     "output_type": "execute_result"
    }
   ],
   "source": [
    "'42'==str(42)\n"
   ]
  },
  {
   "cell_type": "code",
   "execution_count": 17,
   "metadata": {
    "ExecuteTime": {
     "end_time": "2018-12-06T13:21:33.477970Z",
     "start_time": "2018-12-06T13:21:33.470550Z"
    },
    "hidden": true,
    "scrolled": true
   },
   "outputs": [
    {
     "data": {
      "text/plain": [
       "False"
      ]
     },
     "execution_count": 17,
     "metadata": {},
     "output_type": "execute_result"
    }
   ],
   "source": [
    "'42'==42 #instead cant spot the equivalence between string and float/int"
   ]
  },
  {
   "cell_type": "markdown",
   "metadata": {
    "hidden": true
   },
   "source": [
    "The output of a comparison is a boolean and it is going to be your best friend. A boolean can only be  True or False. You can define a bollean variable as always:"
   ]
  },
  {
   "cell_type": "code",
   "execution_count": 19,
   "metadata": {
    "ExecuteTime": {
     "end_time": "2018-12-06T13:23:11.434021Z",
     "start_time": "2018-12-06T13:23:11.430073Z"
    },
    "hidden": true
   },
   "outputs": [],
   "source": [
    "cacca='42'==42"
   ]
  },
  {
   "cell_type": "code",
   "execution_count": 20,
   "metadata": {
    "ExecuteTime": {
     "end_time": "2018-12-06T13:23:13.149477Z",
     "start_time": "2018-12-06T13:23:13.142141Z"
    },
    "hidden": true
   },
   "outputs": [
    {
     "data": {
      "text/plain": [
       "False"
      ]
     },
     "execution_count": 20,
     "metadata": {},
     "output_type": "execute_result"
    }
   ],
   "source": [
    "cacca"
   ]
  },
  {
   "cell_type": "code",
   "execution_count": 21,
   "metadata": {
    "ExecuteTime": {
     "end_time": "2018-12-06T13:23:17.068824Z",
     "start_time": "2018-12-06T13:23:17.062157Z"
    },
    "hidden": true
   },
   "outputs": [
    {
     "data": {
      "text/plain": [
       "bool"
      ]
     },
     "execution_count": 21,
     "metadata": {},
     "output_type": "execute_result"
    }
   ],
   "source": [
    "type(cacca)"
   ]
  },
  {
   "cell_type": "markdown",
   "metadata": {
    "hidden": true
   },
   "source": [
    "Comparison operators are equal (==, note the difference respect to the assignment =), greater (>), less(<), greater equal (>=), less equal (<=) and not equal (!=)."
   ]
  },
  {
   "cell_type": "markdown",
   "metadata": {
    "heading_collapsed": true
   },
   "source": [
    "#### Logical operations"
   ]
  },
  {
   "cell_type": "markdown",
   "metadata": {
    "hidden": true
   },
   "source": [
    "And/Or/Not"
   ]
  },
  {
   "cell_type": "markdown",
   "metadata": {
    "hidden": true
   },
   "source": [
    "Not"
   ]
  },
  {
   "cell_type": "code",
   "execution_count": 23,
   "metadata": {
    "ExecuteTime": {
     "end_time": "2018-12-06T13:27:05.046690Z",
     "start_time": "2018-12-06T13:27:05.039507Z"
    },
    "hidden": true
   },
   "outputs": [
    {
     "data": {
      "text/plain": [
       "False"
      ]
     },
     "execution_count": 23,
     "metadata": {},
     "output_type": "execute_result"
    }
   ],
   "source": [
    "not True "
   ]
  },
  {
   "cell_type": "markdown",
   "metadata": {
    "hidden": true
   },
   "source": [
    "Or"
   ]
  },
  {
   "cell_type": "code",
   "execution_count": 31,
   "metadata": {
    "ExecuteTime": {
     "end_time": "2018-12-06T13:30:03.885583Z",
     "start_time": "2018-12-06T13:30:03.880874Z"
    },
    "hidden": true
   },
   "outputs": [
    {
     "name": "stdout",
     "output_type": "stream",
     "text": [
      "False\n",
      "True\n",
      "True\n"
     ]
    }
   ],
   "source": [
    "print False or False\n",
    "print True or False\n",
    "print True or True"
   ]
  },
  {
   "cell_type": "markdown",
   "metadata": {
    "hidden": true
   },
   "source": [
    "And"
   ]
  },
  {
   "cell_type": "code",
   "execution_count": 32,
   "metadata": {
    "ExecuteTime": {
     "end_time": "2018-12-06T13:30:12.132111Z",
     "start_time": "2018-12-06T13:30:12.127646Z"
    },
    "hidden": true
   },
   "outputs": [
    {
     "name": "stdout",
     "output_type": "stream",
     "text": [
      "False\n",
      "False\n",
      "True\n"
     ]
    }
   ],
   "source": [
    "print False and False\n",
    "print True and False\n",
    "print True and True"
   ]
  },
  {
   "cell_type": "markdown",
   "metadata": {
    "heading_collapsed": true
   },
   "source": [
    "#### If"
   ]
  },
  {
   "cell_type": "markdown",
   "metadata": {
    "hidden": true
   },
   "source": [
    "Why are we so interested in this?"
   ]
  },
  {
   "cell_type": "code",
   "execution_count": 33,
   "metadata": {
    "ExecuteTime": {
     "end_time": "2018-12-06T13:30:43.570938Z",
     "start_time": "2018-12-06T13:30:43.566936Z"
    },
    "hidden": true
   },
   "outputs": [],
   "source": [
    "cacca=42"
   ]
  },
  {
   "cell_type": "code",
   "execution_count": 34,
   "metadata": {
    "ExecuteTime": {
     "end_time": "2018-12-06T13:31:39.831291Z",
     "start_time": "2018-12-06T13:31:39.825456Z"
    },
    "hidden": true
   },
   "outputs": [
    {
     "name": "stdout",
     "output_type": "stream",
     "text": [
      "42\n"
     ]
    }
   ],
   "source": [
    "if cacca>42:\n",
    "    print 'yeah!'\n",
    "elif cacca<42:\n",
    "    print 'ouch!'\n",
    "else:\n",
    "    print '42'"
   ]
  },
  {
   "cell_type": "markdown",
   "metadata": {
    "hidden": true
   },
   "source": [
    "The tab!"
   ]
  },
  {
   "cell_type": "markdown",
   "metadata": {},
   "source": [
    "## Lists and tuples"
   ]
  },
  {
   "cell_type": "markdown",
   "metadata": {},
   "source": [
    "#### Lists"
   ]
  },
  {
   "cell_type": "markdown",
   "metadata": {},
   "source": [
    "A list is a list (surprise!) of elements and it is indicated by square brackets []. Elements are divided by a comma ,"
   ]
  },
  {
   "cell_type": "code",
   "execution_count": 3,
   "metadata": {
    "ExecuteTime": {
     "end_time": "2018-12-06T15:31:20.437775Z",
     "start_time": "2018-12-06T15:31:20.432528Z"
    }
   },
   "outputs": [],
   "source": [
    "cacca=[0, 1., 42., 'quarantadue']"
   ]
  },
  {
   "cell_type": "code",
   "execution_count": 4,
   "metadata": {
    "ExecuteTime": {
     "end_time": "2018-12-06T15:31:20.620174Z",
     "start_time": "2018-12-06T15:31:20.612914Z"
    }
   },
   "outputs": [
    {
     "data": {
      "text/plain": [
       "list"
      ]
     },
     "execution_count": 4,
     "metadata": {},
     "output_type": "execute_result"
    }
   ],
   "source": [
    "type(cacca)"
   ]
  },
  {
   "cell_type": "markdown",
   "metadata": {},
   "source": [
    "Get an element from a list (the first element is the 0th one)"
   ]
  },
  {
   "cell_type": "code",
   "execution_count": 5,
   "metadata": {
    "ExecuteTime": {
     "end_time": "2018-12-06T15:31:20.941796Z",
     "start_time": "2018-12-06T15:31:20.934158Z"
    }
   },
   "outputs": [
    {
     "data": {
      "text/plain": [
       "0"
      ]
     },
     "execution_count": 5,
     "metadata": {},
     "output_type": "execute_result"
    }
   ],
   "source": [
    "cacca[0]"
   ]
  },
  {
   "cell_type": "markdown",
   "metadata": {},
   "source": [
    "The last element is the -1"
   ]
  },
  {
   "cell_type": "code",
   "execution_count": 6,
   "metadata": {
    "ExecuteTime": {
     "end_time": "2018-12-06T15:31:21.301259Z",
     "start_time": "2018-12-06T15:31:21.293922Z"
    }
   },
   "outputs": [
    {
     "data": {
      "text/plain": [
       "'quarantadue'"
      ]
     },
     "execution_count": 6,
     "metadata": {},
     "output_type": "execute_result"
    }
   ],
   "source": [
    "cacca[-1]"
   ]
  },
  {
   "cell_type": "markdown",
   "metadata": {},
   "source": [
    "Get the length of the list"
   ]
  },
  {
   "cell_type": "code",
   "execution_count": 7,
   "metadata": {
    "ExecuteTime": {
     "end_time": "2018-12-06T15:31:21.651496Z",
     "start_time": "2018-12-06T15:31:21.644756Z"
    }
   },
   "outputs": [
    {
     "data": {
      "text/plain": [
       "4"
      ]
     },
     "execution_count": 7,
     "metadata": {},
     "output_type": "execute_result"
    }
   ],
   "source": [
    "len(cacca)"
   ]
  },
  {
   "cell_type": "markdown",
   "metadata": {},
   "source": [
    "Get a subset of the list:"
   ]
  },
  {
   "cell_type": "code",
   "execution_count": 8,
   "metadata": {
    "ExecuteTime": {
     "end_time": "2018-12-06T15:31:21.987351Z",
     "start_time": "2018-12-06T15:31:21.980530Z"
    }
   },
   "outputs": [
    {
     "data": {
      "text/plain": [
       "[0, 1.0]"
      ]
     },
     "execution_count": 8,
     "metadata": {},
     "output_type": "execute_result"
    }
   ],
   "source": [
    "cacca[:2]"
   ]
  },
  {
   "cell_type": "code",
   "execution_count": 9,
   "metadata": {
    "ExecuteTime": {
     "end_time": "2018-12-06T15:31:22.179471Z",
     "start_time": "2018-12-06T15:31:22.172867Z"
    }
   },
   "outputs": [
    {
     "data": {
      "text/plain": [
       "[1.0, 42.0, 'quarantadue']"
      ]
     },
     "execution_count": 9,
     "metadata": {},
     "output_type": "execute_result"
    }
   ],
   "source": [
    "cacca[1:]"
   ]
  },
  {
   "cell_type": "code",
   "execution_count": 10,
   "metadata": {
    "ExecuteTime": {
     "end_time": "2018-12-06T15:31:22.363020Z",
     "start_time": "2018-12-06T15:31:22.356358Z"
    }
   },
   "outputs": [
    {
     "data": {
      "text/plain": [
       "[0, 42.0]"
      ]
     },
     "execution_count": 10,
     "metadata": {},
     "output_type": "execute_result"
    }
   ],
   "source": [
    "cacca[::2]"
   ]
  },
  {
   "cell_type": "code",
   "execution_count": 11,
   "metadata": {
    "ExecuteTime": {
     "end_time": "2018-12-06T15:31:22.562126Z",
     "start_time": "2018-12-06T15:31:22.556240Z"
    }
   },
   "outputs": [
    {
     "data": {
      "text/plain": [
       "[1.0, 'quarantadue']"
      ]
     },
     "execution_count": 11,
     "metadata": {},
     "output_type": "execute_result"
    }
   ],
   "source": [
    "cacca[1::2]"
   ]
  },
  {
   "cell_type": "markdown",
   "metadata": {},
   "source": [
    "Cancel an element from a list"
   ]
  },
  {
   "cell_type": "code",
   "execution_count": 12,
   "metadata": {
    "ExecuteTime": {
     "end_time": "2018-12-06T15:31:22.921823Z",
     "start_time": "2018-12-06T15:31:22.917835Z"
    }
   },
   "outputs": [
    {
     "name": "stdout",
     "output_type": "stream",
     "text": [
      "[1.0, 42.0, 'quarantadue']\n"
     ]
    }
   ],
   "source": [
    "del cacca[0] #canceling first element from cacca\n",
    "print cacca"
   ]
  },
  {
   "cell_type": "markdown",
   "metadata": {},
   "source": [
    "Glue two lists"
   ]
  },
  {
   "cell_type": "code",
   "execution_count": 13,
   "metadata": {
    "ExecuteTime": {
     "end_time": "2018-12-06T15:31:23.273954Z",
     "start_time": "2018-12-06T15:31:23.269949Z"
    }
   },
   "outputs": [],
   "source": [
    "cacca_2=[0., 546, 'spam']"
   ]
  },
  {
   "cell_type": "code",
   "execution_count": 14,
   "metadata": {
    "ExecuteTime": {
     "end_time": "2018-12-06T15:31:23.759064Z",
     "start_time": "2018-12-06T15:31:23.756077Z"
    }
   },
   "outputs": [],
   "source": [
    "cacca_3=cacca+cacca_2"
   ]
  },
  {
   "cell_type": "code",
   "execution_count": 15,
   "metadata": {
    "ExecuteTime": {
     "end_time": "2018-12-06T15:31:24.171672Z",
     "start_time": "2018-12-06T15:31:24.164742Z"
    }
   },
   "outputs": [
    {
     "data": {
      "text/plain": [
       "[1.0, 42.0, 'quarantadue', 0.0, 546, 'spam']"
      ]
     },
     "execution_count": 15,
     "metadata": {},
     "output_type": "execute_result"
    }
   ],
   "source": [
    "cacca_3"
   ]
  },
  {
   "cell_type": "markdown",
   "metadata": {},
   "source": [
    "##### Function for lists"
   ]
  },
  {
   "cell_type": "code",
   "execution_count": 334,
   "metadata": {
    "ExecuteTime": {
     "end_time": "2018-12-06T15:31:25.083217Z",
     "start_time": "2018-12-06T15:31:25.076312Z"
    }
   },
   "outputs": [
    {
     "data": {
      "text/plain": [
       "[1.0, 42.0, 'quarantadue', 0.0, 546, 'spam']"
      ]
     },
     "execution_count": 334,
     "metadata": {},
     "output_type": "execute_result"
    }
   ],
   "source": [
    "cacca_3"
   ]
  },
  {
   "cell_type": "markdown",
   "metadata": {},
   "source": [
    ".index"
   ]
  },
  {
   "cell_type": "code",
   "execution_count": 335,
   "metadata": {
    "ExecuteTime": {
     "end_time": "2018-12-06T15:31:25.819172Z",
     "start_time": "2018-12-06T15:31:25.812163Z"
    }
   },
   "outputs": [
    {
     "data": {
      "text/plain": [
       "2"
      ]
     },
     "execution_count": 335,
     "metadata": {},
     "output_type": "execute_result"
    }
   ],
   "source": [
    "cacca_3.index('quarantadue')"
   ]
  },
  {
   "cell_type": "code",
   "execution_count": 336,
   "metadata": {
    "ExecuteTime": {
     "end_time": "2018-12-06T15:31:26.075101Z",
     "start_time": "2018-12-06T15:31:26.068097Z"
    }
   },
   "outputs": [
    {
     "data": {
      "text/plain": [
       "'quarantadue'"
      ]
     },
     "execution_count": 336,
     "metadata": {},
     "output_type": "execute_result"
    }
   ],
   "source": [
    "cacca_3[2]"
   ]
  },
  {
   "cell_type": "markdown",
   "metadata": {},
   "source": [
    ".append"
   ]
  },
  {
   "cell_type": "code",
   "execution_count": 337,
   "metadata": {
    "ExecuteTime": {
     "end_time": "2018-12-06T15:31:26.466479Z",
     "start_time": "2018-12-06T15:31:26.462662Z"
    }
   },
   "outputs": [],
   "source": [
    "cacca_3.append('cacca')"
   ]
  },
  {
   "cell_type": "code",
   "execution_count": 338,
   "metadata": {
    "ExecuteTime": {
     "end_time": "2018-12-06T15:31:26.611123Z",
     "start_time": "2018-12-06T15:31:26.604190Z"
    }
   },
   "outputs": [
    {
     "data": {
      "text/plain": [
       "[1.0, 42.0, 'quarantadue', 0.0, 546, 'spam', 'cacca']"
      ]
     },
     "execution_count": 338,
     "metadata": {},
     "output_type": "execute_result"
    }
   ],
   "source": [
    "cacca_3"
   ]
  },
  {
   "cell_type": "markdown",
   "metadata": {},
   "source": [
    ".insert"
   ]
  },
  {
   "cell_type": "code",
   "execution_count": 339,
   "metadata": {
    "ExecuteTime": {
     "end_time": "2018-12-06T15:31:27.008361Z",
     "start_time": "2018-12-06T15:31:27.004281Z"
    }
   },
   "outputs": [],
   "source": [
    "cacca_3.insert(0, 'zero')"
   ]
  },
  {
   "cell_type": "code",
   "execution_count": 340,
   "metadata": {
    "ExecuteTime": {
     "end_time": "2018-12-06T15:31:27.274241Z",
     "start_time": "2018-12-06T15:31:27.268097Z"
    }
   },
   "outputs": [
    {
     "data": {
      "text/plain": [
       "['zero', 1.0, 42.0, 'quarantadue', 0.0, 546, 'spam', 'cacca']"
      ]
     },
     "execution_count": 340,
     "metadata": {},
     "output_type": "execute_result"
    }
   ],
   "source": [
    "cacca_3"
   ]
  },
  {
   "cell_type": "markdown",
   "metadata": {},
   "source": [
    ".remove"
   ]
  },
  {
   "cell_type": "code",
   "execution_count": 341,
   "metadata": {
    "ExecuteTime": {
     "end_time": "2018-12-06T15:31:28.031970Z",
     "start_time": "2018-12-06T15:31:28.028121Z"
    }
   },
   "outputs": [],
   "source": [
    "cacca_3.remove(1)"
   ]
  },
  {
   "cell_type": "code",
   "execution_count": 342,
   "metadata": {
    "ExecuteTime": {
     "end_time": "2018-12-06T15:31:28.379190Z",
     "start_time": "2018-12-06T15:31:28.372467Z"
    }
   },
   "outputs": [
    {
     "data": {
      "text/plain": [
       "['zero', 42.0, 'quarantadue', 0.0, 546, 'spam', 'cacca']"
      ]
     },
     "execution_count": 342,
     "metadata": {},
     "output_type": "execute_result"
    }
   ],
   "source": [
    "cacca_3"
   ]
  },
  {
   "cell_type": "markdown",
   "metadata": {},
   "source": [
    "Not the position, the element! O.O"
   ]
  },
  {
   "cell_type": "markdown",
   "metadata": {},
   "source": [
    ".sort()"
   ]
  },
  {
   "cell_type": "code",
   "execution_count": 377,
   "metadata": {
    "ExecuteTime": {
     "end_time": "2018-12-06T15:49:55.146409Z",
     "start_time": "2018-12-06T15:49:55.142413Z"
    }
   },
   "outputs": [],
   "source": [
    "cacca_4=[1, 42., 2., 11, -2.]"
   ]
  },
  {
   "cell_type": "code",
   "execution_count": 378,
   "metadata": {
    "ExecuteTime": {
     "end_time": "2018-12-06T15:49:55.714735Z",
     "start_time": "2018-12-06T15:49:55.710723Z"
    }
   },
   "outputs": [],
   "source": [
    "cacca_4.sort()"
   ]
  },
  {
   "cell_type": "code",
   "execution_count": 379,
   "metadata": {
    "ExecuteTime": {
     "end_time": "2018-12-06T15:49:56.109723Z",
     "start_time": "2018-12-06T15:49:56.102985Z"
    }
   },
   "outputs": [
    {
     "data": {
      "text/plain": [
       "[-2.0, 1, 2.0, 11, 42.0]"
      ]
     },
     "execution_count": 379,
     "metadata": {},
     "output_type": "execute_result"
    }
   ],
   "source": [
    "cacca_4"
   ]
  },
  {
   "cell_type": "markdown",
   "metadata": {},
   "source": [
    "...but..."
   ]
  },
  {
   "cell_type": "code",
   "execution_count": 380,
   "metadata": {
    "ExecuteTime": {
     "end_time": "2018-12-06T15:50:47.004412Z",
     "start_time": "2018-12-06T15:50:47.000429Z"
    }
   },
   "outputs": [],
   "source": [
    "cacca_3.sort()"
   ]
  },
  {
   "cell_type": "code",
   "execution_count": 381,
   "metadata": {
    "ExecuteTime": {
     "end_time": "2018-12-06T15:50:55.600795Z",
     "start_time": "2018-12-06T15:50:55.593670Z"
    }
   },
   "outputs": [
    {
     "data": {
      "text/plain": [
       "[0.0, 42.0, 546, 'cacca', 'quarantadue', 'spam', 'zero']"
      ]
     },
     "execution_count": 381,
     "metadata": {},
     "output_type": "execute_result"
    }
   ],
   "source": [
    "cacca_3"
   ]
  },
  {
   "cell_type": "markdown",
   "metadata": {},
   "source": [
    "Thus, first numbers, then strings. **Pay attention!** In python 3 it is different!"
   ]
  },
  {
   "cell_type": "markdown",
   "metadata": {
    "heading_collapsed": true
   },
   "source": [
    "#### Tuples"
   ]
  },
  {
   "cell_type": "markdown",
   "metadata": {
    "hidden": true
   },
   "source": [
    "Tuples are like lists, but immutable, i.e. you cannot change the value in a tuple. Instead of square brackets we use round brackets:"
   ]
  },
  {
   "cell_type": "code",
   "execution_count": 402,
   "metadata": {
    "ExecuteTime": {
     "end_time": "2018-12-06T16:07:33.069401Z",
     "start_time": "2018-12-06T16:07:33.065238Z"
    },
    "hidden": true
   },
   "outputs": [],
   "source": [
    "tuple_0=(0., 'quarantadue', 42)"
   ]
  },
  {
   "cell_type": "code",
   "execution_count": 404,
   "metadata": {
    "ExecuteTime": {
     "end_time": "2018-12-06T16:07:47.309855Z",
     "start_time": "2018-12-06T16:07:47.296610Z"
    },
    "hidden": true
   },
   "outputs": [
    {
     "ename": "TypeError",
     "evalue": "'tuple' object does not support item assignment",
     "output_type": "error",
     "traceback": [
      "\u001b[0;31m---------------------------------------------------------------------------\u001b[0m",
      "\u001b[0;31mTypeError\u001b[0m                                 Traceback (most recent call last)",
      "\u001b[0;32m<ipython-input-404-10eab36fbe5c>\u001b[0m in \u001b[0;36m<module>\u001b[0;34m()\u001b[0m\n\u001b[0;32m----> 1\u001b[0;31m \u001b[0mtuple_0\u001b[0m\u001b[0;34m[\u001b[0m\u001b[0;36m0\u001b[0m\u001b[0;34m]\u001b[0m\u001b[0;34m=\u001b[0m\u001b[0;36m42.\u001b[0m\u001b[0;34m\u001b[0m\u001b[0m\n\u001b[0m",
      "\u001b[0;31mTypeError\u001b[0m: 'tuple' object does not support item assignment"
     ]
    }
   ],
   "source": [
    "tuple_0[0]=42."
   ]
  },
  {
   "cell_type": "markdown",
   "metadata": {
    "hidden": true
   },
   "source": [
    "Since, under the hood, Python knows that tuple are immutable and optimizes its routines this way, using tuple, when strings are not necessary is a little bit faster."
   ]
  },
  {
   "cell_type": "markdown",
   "metadata": {},
   "source": [
    "#### Conversions"
   ]
  },
  {
   "cell_type": "code",
   "execution_count": 440,
   "metadata": {
    "ExecuteTime": {
     "end_time": "2018-12-06T16:29:09.896260Z",
     "start_time": "2018-12-06T16:29:09.888828Z"
    }
   },
   "outputs": [
    {
     "data": {
      "text/plain": [
       "[0.0, 'quarantadue', 42]"
      ]
     },
     "execution_count": 440,
     "metadata": {},
     "output_type": "execute_result"
    }
   ],
   "source": [
    "list(tuple_0)"
   ]
  },
  {
   "cell_type": "code",
   "execution_count": 441,
   "metadata": {
    "ExecuteTime": {
     "end_time": "2018-12-06T16:29:10.970559Z",
     "start_time": "2018-12-06T16:29:10.958780Z"
    }
   },
   "outputs": [
    {
     "data": {
      "text/plain": [
       "(0, 2, 4, 8, 10, 12, 14, 16, 18, 20, 22, 24, 26, 28, 30, 32, 34, 36, 38, 40)"
      ]
     },
     "execution_count": 441,
     "metadata": {},
     "output_type": "execute_result"
    }
   ],
   "source": [
    "tuple(cacca)"
   ]
  },
  {
   "cell_type": "markdown",
   "metadata": {},
   "source": [
    "#### WARNING!"
   ]
  },
  {
   "cell_type": "code",
   "execution_count": 1,
   "metadata": {
    "ExecuteTime": {
     "end_time": "2018-12-06T16:23:27.357555Z",
     "start_time": "2018-12-06T16:23:27.352864Z"
    }
   },
   "outputs": [],
   "source": [
    "spam=42\n",
    "cheese=spam\n",
    "cheese=2"
   ]
  },
  {
   "cell_type": "code",
   "execution_count": 2,
   "metadata": {
    "ExecuteTime": {
     "end_time": "2018-12-06T16:23:31.988743Z",
     "start_time": "2018-12-06T16:23:31.984542Z"
    }
   },
   "outputs": [
    {
     "name": "stdout",
     "output_type": "stream",
     "text": [
      "42 2\n"
     ]
    }
   ],
   "source": [
    "print spam, cheese"
   ]
  },
  {
   "cell_type": "markdown",
   "metadata": {},
   "source": [
    "spam and ham did not change. Lists seem to behave the same..."
   ]
  },
  {
   "cell_type": "code",
   "execution_count": 3,
   "metadata": {
    "ExecuteTime": {
     "end_time": "2018-12-06T16:25:07.548441Z",
     "start_time": "2018-12-06T16:25:07.543444Z"
    }
   },
   "outputs": [],
   "source": [
    "spam=[42, 42, 42]\n",
    "cheese=spam\n",
    "cheese=[2,2,2]"
   ]
  },
  {
   "cell_type": "code",
   "execution_count": 4,
   "metadata": {
    "ExecuteTime": {
     "end_time": "2018-12-06T16:25:08.064400Z",
     "start_time": "2018-12-06T16:25:08.060046Z"
    }
   },
   "outputs": [
    {
     "name": "stdout",
     "output_type": "stream",
     "text": [
      "[42, 42, 42] [2, 2, 2]\n"
     ]
    }
   ],
   "source": [
    "print spam, cheese"
   ]
  },
  {
   "cell_type": "markdown",
   "metadata": {},
   "source": [
    "Well, it is not true!"
   ]
  },
  {
   "cell_type": "code",
   "execution_count": 5,
   "metadata": {
    "ExecuteTime": {
     "end_time": "2018-12-06T16:25:25.324125Z",
     "start_time": "2018-12-06T16:25:25.320939Z"
    }
   },
   "outputs": [],
   "source": [
    "spam=[42, 42, 42]\n",
    "cheese=spam\n",
    "cheese[0]=2"
   ]
  },
  {
   "cell_type": "code",
   "execution_count": 6,
   "metadata": {
    "ExecuteTime": {
     "end_time": "2018-12-06T16:25:25.756532Z",
     "start_time": "2018-12-06T16:25:25.752709Z"
    }
   },
   "outputs": [
    {
     "name": "stdout",
     "output_type": "stream",
     "text": [
      "[2, 42, 42] [2, 42, 42]\n"
     ]
    }
   ],
   "source": [
    "print spam, cheese"
   ]
  },
  {
   "cell_type": "markdown",
   "metadata": {},
   "source": [
    "Our friend Sweigart says:\n",
    "> Remember that variables are like boxes that contain values. The previous figures in this chapter show that lists in boxes aren’t exactly accurate because list variables don’t actually contain lists—they contain references to lists. (These references will have ID numbers that Python uses internally, but you can ignore them.) [...] the reference in spam is copied to cheese. Only a new reference was created and stored in cheese, not a new list. Note how both references refer to the same list. [...] When you alter the list that cheese refers to, the list that spam refers to is also changed, because both cheese and spam refer to the same list.  \n",
    "\n",
    "Is there a way out? Simple as this: use the converter."
   ]
  },
  {
   "cell_type": "code",
   "execution_count": 17,
   "metadata": {
    "ExecuteTime": {
     "end_time": "2018-12-06T16:30:41.101907Z",
     "start_time": "2018-12-06T16:30:41.097654Z"
    }
   },
   "outputs": [
    {
     "name": "stdout",
     "output_type": "stream",
     "text": [
      "[42, 42, 42]\n",
      "[2, 42, 42]\n"
     ]
    }
   ],
   "source": [
    "spam=[42, 42, 42]\n",
    "cheese=list(spam) #LOOK HERE!\n",
    "cheese[0]=2\n",
    "\n",
    "print spam\n",
    "print cheese"
   ]
  },
  {
   "cell_type": "markdown",
   "metadata": {},
   "source": [
    "Instead, you can use the module copy"
   ]
  },
  {
   "cell_type": "code",
   "execution_count": 2,
   "metadata": {},
   "outputs": [],
   "source": [
    "import copy"
   ]
  },
  {
   "cell_type": "code",
   "execution_count": 3,
   "metadata": {},
   "outputs": [
    {
     "name": "stdout",
     "output_type": "stream",
     "text": [
      "[42, 42, 42]\n",
      "[2, 42, 42]\n"
     ]
    }
   ],
   "source": [
    "spam=[42, 42, 42]\n",
    "cheese=copy.copy(spam) #LOOK HERE!\n",
    "cheese[0]=2\n",
    "\n",
    "print spam \n",
    "print cheese"
   ]
  },
  {
   "cell_type": "markdown",
   "metadata": {},
   "source": [
    "I mean, why copy if list itself works properly?"
   ]
  },
  {
   "cell_type": "code",
   "execution_count": 4,
   "metadata": {},
   "outputs": [
    {
     "name": "stdout",
     "output_type": "stream",
     "text": [
      "[[2, 42, 42], [4, 4, 4], [2, 2]]\n",
      "[[2, 42, 42], [4, 4, 4], [2, 2]]\n"
     ]
    }
   ],
   "source": [
    "spam=[[42, 42, 42],[4,4,4], [2,2]]\n",
    "cheese=list(spam) #LOOK HERE!\n",
    "cheese[0][0]=2\n",
    "\n",
    "print spam\n",
    "print cheese"
   ]
  },
  {
   "cell_type": "markdown",
   "metadata": {},
   "source": [
    "D'oh! Does copy solve this problem?"
   ]
  },
  {
   "cell_type": "code",
   "execution_count": 5,
   "metadata": {},
   "outputs": [
    {
     "name": "stdout",
     "output_type": "stream",
     "text": [
      "[[2, 42, 42], [4, 4, 4], [2, 2]]\n",
      "[[2, 42, 42], [4, 4, 4], [2, 2]]\n"
     ]
    }
   ],
   "source": [
    "spam=[[42, 42, 42],[4,4,4], [2,2]]\n",
    "cheese=copy.copy(spam) #LOOK HERE!\n",
    "cheese[0][0]=2\n",
    "\n",
    "print spam\n",
    "print cheese"
   ]
  },
  {
   "cell_type": "markdown",
   "metadata": {},
   "source": [
    "No! Well, the fact is that we used the wrong function:"
   ]
  },
  {
   "cell_type": "code",
   "execution_count": 6,
   "metadata": {},
   "outputs": [
    {
     "name": "stdout",
     "output_type": "stream",
     "text": [
      "[[42, 42, 42], [4, 4, 4], [2, 2]]\n",
      "[[2, 42, 42], [4, 4, 4], [2, 2]]\n"
     ]
    }
   ],
   "source": [
    "spam=[[42, 42, 42],[4,4,4], [2,2]]\n",
    "cheese=copy.deepcopy(spam) #LOOK HERE!\n",
    "cheese[0][0]=2\n",
    "\n",
    "print spam\n",
    "print cheese"
   ]
  },
  {
   "cell_type": "markdown",
   "metadata": {},
   "source": [
    "Since they are immutable, you do not have the same problem for tuples."
   ]
  },
  {
   "cell_type": "markdown",
   "metadata": {},
   "source": [
    "#### List comprehension"
   ]
  },
  {
   "cell_type": "code",
   "execution_count": 34,
   "metadata": {},
   "outputs": [],
   "source": [
    "cacca_x=[i%2 for i in xrange(42)]\n"
   ]
  },
  {
   "cell_type": "code",
   "execution_count": 35,
   "metadata": {},
   "outputs": [
    {
     "data": {
      "text/plain": [
       "list"
      ]
     },
     "execution_count": 35,
     "metadata": {},
     "output_type": "execute_result"
    }
   ],
   "source": [
    "type(cacca_x)"
   ]
  },
  {
   "cell_type": "code",
   "execution_count": 36,
   "metadata": {},
   "outputs": [],
   "source": [
    "cacca_x=[i if i%2==0 else 0 for i in xrange(42)]"
   ]
  },
  {
   "cell_type": "code",
   "execution_count": 37,
   "metadata": {},
   "outputs": [],
   "source": [
    "cacca_x=[i for i in xrange(42) if i%2==0]"
   ]
  },
  {
   "cell_type": "code",
   "execution_count": 30,
   "metadata": {},
   "outputs": [
    {
     "data": {
      "text/plain": [
       "[0, 2, 4, 6, 8, 10, 12, 14, 16, 18, 20, 22, 24, 26, 28, 30, 32, 34, 36, 38, 40]"
      ]
     },
     "execution_count": 30,
     "metadata": {},
     "output_type": "execute_result"
    }
   ],
   "source": [
    "cacca_x"
   ]
  },
  {
   "cell_type": "markdown",
   "metadata": {},
   "source": [
    "## Loops"
   ]
  },
  {
   "cell_type": "markdown",
   "metadata": {},
   "source": [
    "<img src='l0_loop.jpg' style=\"float:left;width:18cm;height:10cm;\">"
   ]
  },
  {
   "cell_type": "markdown",
   "metadata": {},
   "source": [
    "Some operations are indeed repetitive and boring. So, why should we do them, running the risk of making errors and breaking crazy?\n",
    "<img src='l0_ax.jpg' style=\"float:left;width:18cm;height:10cm;\">"
   ]
  },
  {
   "cell_type": "markdown",
   "metadata": {},
   "source": [
    "#### While"
   ]
  },
  {
   "cell_type": "code",
   "execution_count": 2,
   "metadata": {
    "ExecuteTime": {
     "end_time": "2018-12-06T13:42:41.660904Z",
     "start_time": "2018-12-06T13:42:41.656117Z"
    }
   },
   "outputs": [
    {
     "name": "stdout",
     "output_type": "stream",
     "text": [
      " All work and no play makes Jack a dull boy\n",
      "All work and no play makes Jack a dull boy\n",
      "All work and no play makes Jack a dull boy\n",
      "All work and no play makes Jack a dull boy\n",
      "All work and no play makes Jack a dull boy\n",
      "All work and no play makes Jack a dull boy\n",
      "All work and no play makes Jack a dull boy\n",
      "All work and no play makes Jack a dull boy\n",
      "All work and no play makes Jack a dull boy\n",
      "All work and no play makes Jack a dull boy\n",
      "All work and no play makes Jack a dull boy\n",
      "All work and no play makes Jack a dull boy\n",
      "All work and no play makes Jack a dull boy\n",
      "All work and no play makes Jack a dull boy\n",
      "All work and no play makes Jack a dull boy\n",
      "All work and no play makes Jack a dull boy\n",
      "All work and no play makes Jack a dull boy\n",
      "All work and no play makes Jack a dull boy\n",
      "All work and no play makes Jack a dull boy\n",
      "All work and no play makes Jack a dull boy\n",
      "All work and no play makes Jack a dull boy\n",
      "All work and no play makes Jack a dull boy\n",
      "All work and no play makes Jack a dull boy\n",
      "All work and no play makes Jack a dull boy\n",
      "All work and no play makes Jack a dull boy\n",
      "All work and no play makes Jack a dull boy\n",
      "All work and no play makes Jack a dull boy\n",
      "All work and no play makes Jack a dull boy\n",
      "All work and no play makes Jack a dull boy\n",
      "All work and no play makes Jack a dull boy\n",
      "All work and no play makes Jack a dull boy\n",
      "All work and no play makes Jack a dull boy\n",
      "All work and no play makes Jack a dull boy\n",
      "All work and no play makes Jack a dull boy\n",
      "All work and no play makes Jack a dull boy\n",
      "All work and no play makes Jack a dull boy\n",
      "All work and no play makes Jack a dull boy\n",
      "All work and no play makes Jack a dull boy\n",
      "All work and no play makes Jack a dull boy\n",
      "All work and no play makes Jack a dull boy\n",
      "All work and no play makes Jack a dull boy\n",
      "All work and no play makes Jack a dull boy\n",
      "Now I fell fine\n"
     ]
    }
   ],
   "source": [
    "crazy=0 #assign to crazy value 0\n",
    "while crazy<42:\n",
    "    crazy+=1 #in sostanza sta dicendo piglia crazy e aggiuncici uno finchè non arriva a 42 poi esci dal loop\n",
    "    print 'All work and no play makes Jack a dull boy' \n",
    "print 'Now I fell fine'"
   ]
  },
  {
   "cell_type": "markdown",
   "metadata": {},
   "source": [
    "#### For"
   ]
  },
  {
   "cell_type": "code",
   "execution_count": 50,
   "metadata": {
    "ExecuteTime": {
     "end_time": "2018-12-06T14:07:43.561113Z",
     "start_time": "2018-12-06T14:07:43.554274Z"
    }
   },
   "outputs": [
    {
     "data": {
      "text/plain": [
       "xrange"
      ]
     },
     "execution_count": 50,
     "metadata": {},
     "output_type": "execute_result"
    }
   ],
   "source": [
    "type(xrange(42))"
   ]
  },
  {
   "cell_type": "code",
   "execution_count": 8,
   "metadata": {
    "ExecuteTime": {
     "end_time": "2018-12-06T13:44:57.281101Z",
     "start_time": "2018-12-06T13:44:57.274111Z"
    }
   },
   "outputs": [
    {
     "name": "stdout",
     "output_type": "stream",
     "text": [
      "0\n",
      "1\n",
      "2\n",
      "3\n",
      "4\n",
      "5\n",
      "6\n",
      "7\n",
      "8\n",
      "9\n",
      "10\n",
      "11\n",
      "12\n",
      "13\n",
      "14\n",
      "15\n",
      "16\n",
      "17\n",
      "18\n",
      "19\n",
      "20\n",
      "21\n",
      "22\n",
      "23\n",
      "24\n",
      "25\n",
      "26\n",
      "27\n",
      "28\n",
      "29\n",
      "30\n",
      "31\n",
      "32\n",
      "33\n",
      "34\n",
      "35\n",
      "36\n",
      "37\n",
      "38\n",
      "39\n",
      "40\n",
      "41\n"
     ]
    }
   ],
   "source": [
    "for i in xrange(42): #i sta per index\n",
    "    print i"
   ]
  },
  {
   "cell_type": "code",
   "execution_count": 343,
   "metadata": {
    "ExecuteTime": {
     "end_time": "2018-12-06T15:31:35.721806Z",
     "start_time": "2018-12-06T15:31:35.717477Z"
    }
   },
   "outputs": [
    {
     "name": "stdout",
     "output_type": "stream",
     "text": [
      "zero\n",
      "42.0\n",
      "quarantadue\n",
      "0.0\n",
      "546\n",
      "spam\n",
      "cacca\n"
     ]
    }
   ],
   "source": [
    "for i in cacca_3:\n",
    "    print i"
   ]
  },
  {
   "cell_type": "markdown",
   "metadata": {},
   "source": [
    "BTW, list() function is a converter "
   ]
  },
  {
   "cell_type": "code",
   "execution_count": 74,
   "metadata": {
    "ExecuteTime": {
     "end_time": "2018-12-06T14:32:36.243570Z",
     "start_time": "2018-12-06T14:32:36.236663Z"
    }
   },
   "outputs": [
    {
     "data": {
      "text/plain": [
       "list"
      ]
     },
     "execution_count": 74,
     "metadata": {},
     "output_type": "execute_result"
    }
   ],
   "source": [
    "type(list(xrange(42)))"
   ]
  },
  {
   "cell_type": "code",
   "execution_count": 43,
   "metadata": {
    "ExecuteTime": {
     "end_time": "2018-12-06T13:45:28.190289Z",
     "start_time": "2018-12-06T13:45:28.184656Z"
    }
   },
   "outputs": [
    {
     "name": "stdout",
     "output_type": "stream",
     "text": [
      "A\n",
      "l\n",
      "l\n",
      " \n",
      "w\n",
      "o\n",
      "r\n",
      "k\n",
      " \n",
      "a\n",
      "n\n",
      "d\n",
      " \n",
      "n\n",
      "o\n",
      " \n",
      "p\n",
      "l\n",
      "a\n",
      "y\n",
      " \n",
      "m\n",
      "a\n",
      "k\n",
      "e\n",
      "s\n",
      " \n",
      "J\n",
      "a\n",
      "c\n",
      "k\n",
      " \n",
      "a\n",
      " \n",
      "d\n",
      "u\n",
      "l\n",
      "l\n",
      " \n",
      "b\n",
      "o\n",
      "y\n"
     ]
    }
   ],
   "source": [
    "for i in 'All work and no play makes Jack a dull boy':\n",
    "    print i"
   ]
  },
  {
   "cell_type": "markdown",
   "metadata": {},
   "source": [
    "#### I want to *break* free! I want to *continue* free!"
   ]
  },
  {
   "cell_type": "code",
   "execution_count": 48,
   "metadata": {
    "ExecuteTime": {
     "end_time": "2018-12-06T13:48:43.138186Z",
     "start_time": "2018-12-06T13:48:43.130856Z"
    }
   },
   "outputs": [
    {
     "name": "stdout",
     "output_type": "stream",
     "text": [
      "0\n",
      "1\n",
      "2\n",
      "3\n",
      "4\n",
      "5\n",
      "6\n",
      "7\n",
      "8\n",
      "9\n",
      "10\n",
      "11\n",
      "12\n",
      "13\n",
      "14\n",
      "15\n",
      "16\n",
      "17\n",
      "18\n",
      "19\n",
      "20\n",
      "21\n"
     ]
    }
   ],
   "source": [
    "for i in xrange(42):\n",
    "    print i\n",
    "    if i ==21:\n",
    "        break"
   ]
  },
  {
   "cell_type": "code",
   "execution_count": 49,
   "metadata": {
    "ExecuteTime": {
     "end_time": "2018-12-06T13:48:58.947997Z",
     "start_time": "2018-12-06T13:48:58.943683Z"
    }
   },
   "outputs": [
    {
     "name": "stdout",
     "output_type": "stream",
     "text": [
      "21\n"
     ]
    }
   ],
   "source": [
    "for i in xrange(42):\n",
    "    if i!=21:\n",
    "        continue #per ogni i in 42 prendi il primo è diverso da 21 continua prendi il secondo è diverso da 21 continua ecc... finchè non arriva veramente a 21 non continua e stampa quindi stampa 21\n",
    "    print i"
   ]
  },
  {
   "cell_type": "code",
   "execution_count": 111,
   "metadata": {
    "ExecuteTime": {
     "end_time": "2018-12-06T14:39:19.783165Z",
     "start_time": "2018-12-06T14:39:19.779322Z"
    }
   },
   "outputs": [],
   "source": [
    "cacca=list(xrange(42))[::2]"
   ]
  },
  {
   "cell_type": "code",
   "execution_count": 112,
   "metadata": {
    "ExecuteTime": {
     "end_time": "2018-12-06T14:39:20.432928Z",
     "start_time": "2018-12-06T14:39:20.426020Z"
    }
   },
   "outputs": [
    {
     "data": {
      "text/plain": [
       "[0, 2, 4, 6, 8, 10, 12, 14, 16, 18, 20, 22, 24, 26, 28, 30, 32, 34, 36, 38, 40]"
      ]
     },
     "execution_count": 112,
     "metadata": {},
     "output_type": "execute_result"
    }
   ],
   "source": [
    "cacca"
   ]
  },
  {
   "cell_type": "code",
   "execution_count": 113,
   "metadata": {
    "ExecuteTime": {
     "end_time": "2018-12-06T14:39:21.200465Z",
     "start_time": "2018-12-06T14:39:21.193826Z"
    }
   },
   "outputs": [
    {
     "data": {
      "text/plain": [
       "21"
      ]
     },
     "execution_count": 113,
     "metadata": {},
     "output_type": "execute_result"
    }
   ],
   "source": [
    "len(cacca)"
   ]
  },
  {
   "cell_type": "code",
   "execution_count": 114,
   "metadata": {
    "ExecuteTime": {
     "end_time": "2018-12-06T14:39:28.395745Z",
     "start_time": "2018-12-06T14:39:28.390152Z"
    }
   },
   "outputs": [],
   "source": [
    "for odd in xrange(21): \n",
    "    if (odd*2) % 3==0 and odd!=0: #take among 42 range the odd number multiply by 2, prendi quelli divisibili per tre e non dispari\n",
    "        del cacca[odd]\n",
    "        break"
   ]
  },
  {
   "cell_type": "code",
   "execution_count": 115,
   "metadata": {
    "ExecuteTime": {
     "end_time": "2018-12-06T14:39:28.856732Z",
     "start_time": "2018-12-06T14:39:28.849653Z"
    }
   },
   "outputs": [
    {
     "data": {
      "text/plain": [
       "[0, 2, 4, 8, 10, 12, 14, 16, 18, 20, 22, 24, 26, 28, 30, 32, 34, 36, 38, 40]"
      ]
     },
     "execution_count": 115,
     "metadata": {},
     "output_type": "execute_result"
    }
   ],
   "source": [
    "cacca"
   ]
  },
  {
   "cell_type": "markdown",
   "metadata": {},
   "source": [
    "### Exercise: define  a loop that runs over the list of even integers lower than 42 and erase the first non-zero element divisible  by 3"
   ]
  },
  {
   "cell_type": "code",
   "execution_count": null,
   "metadata": {},
   "outputs": [],
   "source": [
    "#questo è fatto sopra\n",
    "   "
   ]
  },
  {
   "cell_type": "markdown",
   "metadata": {},
   "source": [
    "### Exercise: define  a loop that runs over the list of even integers lower than 42 and erase all elements divisible  by 3"
   ]
  },
  {
   "cell_type": "code",
   "execution_count": 9,
   "metadata": {
    "ExecuteTime": {
     "end_time": "2018-12-06T14:39:19.783165Z",
     "start_time": "2018-12-06T14:39:19.779322Z"
    }
   },
   "outputs": [],
   "source": [
    "cacca=list(xrange(42))[::2]"
   ]
  },
  {
   "cell_type": "code",
   "execution_count": 10,
   "metadata": {},
   "outputs": [
    {
     "data": {
      "text/plain": [
       "[0, 2, 4, 6, 8, 10, 12, 14, 16, 18, 20, 22, 24, 26, 28, 30, 32, 34, 36, 38, 40]"
      ]
     },
     "execution_count": 10,
     "metadata": {},
     "output_type": "execute_result"
    }
   ],
   "source": [
    "cacca"
   ]
  },
  {
   "cell_type": "code",
   "execution_count": 11,
   "metadata": {},
   "outputs": [],
   "source": [
    "for i in xrange(21):\n",
    "    if (i*2) % 3==0:\n",
    "        del cacca[i]\n",
    "        break\n",
    "        \n",
    " "
   ]
  },
  {
   "cell_type": "code",
   "execution_count": 12,
   "metadata": {
    "scrolled": false
   },
   "outputs": [
    {
     "data": {
      "text/plain": [
       "[2, 4, 6, 8, 10, 12, 14, 16, 18, 20, 22, 24, 26, 28, 30, 32, 34, 36, 38, 40]"
      ]
     },
     "execution_count": 12,
     "metadata": {},
     "output_type": "execute_result"
    }
   ],
   "source": [
    "cacca"
   ]
  },
  {
   "cell_type": "markdown",
   "metadata": {},
   "source": [
    "### Exercise: delete the strings from cacca_3 "
   ]
  },
  {
   "cell_type": "code",
   "execution_count": 31,
   "metadata": {},
   "outputs": [],
   "source": [
    "cacca2=[]\n",
    "for i in xrange(21):\n",
    "    if (i*2) % 3!=0:\n",
    "        cacca2.append(i*2)\n",
    "   \n",
    "        "
   ]
  },
  {
   "cell_type": "code",
   "execution_count": 32,
   "metadata": {},
   "outputs": [
    {
     "data": {
      "text/plain": [
       "[2, 4, 8, 10, 14, 16, 20, 22, 26, 28, 32, 34, 38, 40]"
      ]
     },
     "execution_count": 32,
     "metadata": {},
     "output_type": "execute_result"
    }
   ],
   "source": [
    "cacca2"
   ]
  },
  {
   "cell_type": "code",
   "execution_count": 16,
   "metadata": {},
   "outputs": [],
   "source": [
    "del cacca [::3]"
   ]
  },
  {
   "cell_type": "code",
   "execution_count": 17,
   "metadata": {},
   "outputs": [
    {
     "data": {
      "text/plain": [
       "[4, 6, 10, 12, 16, 18, 22, 24, 28, 30, 34, 36, 40]"
      ]
     },
     "execution_count": 17,
     "metadata": {},
     "output_type": "execute_result"
    }
   ],
   "source": [
    "cacca"
   ]
  }
 ],
 "metadata": {
  "kernelspec": {
   "display_name": "Python 2",
   "language": "python",
   "name": "python2"
  },
  "language_info": {
   "codemirror_mode": {
    "name": "ipython",
    "version": 2
   },
   "file_extension": ".py",
   "mimetype": "text/x-python",
   "name": "python",
   "nbconvert_exporter": "python",
   "pygments_lexer": "ipython2",
   "version": "2.7.15"
  },
  "latex_envs": {
   "LaTeX_envs_menu_present": true,
   "autoclose": false,
   "autocomplete": true,
   "bibliofile": "biblio.bib",
   "cite_by": "apalike",
   "current_citInitial": 1,
   "eqLabelWithNumbers": true,
   "eqNumInitial": 1,
   "hotkeys": {
    "equation": "Ctrl-E",
    "itemize": "Ctrl-I"
   },
   "labels_anchors": false,
   "latex_user_defs": false,
   "report_style_numbering": false,
   "user_envs_cfg": false
  },
  "toc": {
   "base_numbering": 1,
   "nav_menu": {
    "height": "118.833px",
    "width": "252px"
   },
   "number_sections": false,
   "sideBar": true,
   "skip_h1_title": true,
   "title_cell": "Table of Contents",
   "title_sidebar": "Contents",
   "toc_cell": false,
   "toc_position": {
    "height": "847.867px",
    "left": "0px",
    "right": "1545px",
    "top": "111.133px",
    "width": "314px"
   },
   "toc_section_display": "block",
   "toc_window_display": true
  },
  "varInspector": {
   "cols": {
    "lenName": 16,
    "lenType": 16,
    "lenVar": 40
   },
   "kernels_config": {
    "python": {
     "delete_cmd_postfix": "",
     "delete_cmd_prefix": "del ",
     "library": "var_list.py",
     "varRefreshCmd": "print(var_dic_list())"
    },
    "r": {
     "delete_cmd_postfix": ") ",
     "delete_cmd_prefix": "rm(",
     "library": "var_list.r",
     "varRefreshCmd": "cat(var_dic_list()) "
    }
   },
   "types_to_exclude": [
    "module",
    "function",
    "builtin_function_or_method",
    "instance",
    "_Feature"
   ],
   "window_display": false
  }
 },
 "nbformat": 4,
 "nbformat_minor": 2
}
